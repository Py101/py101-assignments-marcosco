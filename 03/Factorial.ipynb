{
 "cells": [
  {
   "cell_type": "code",
   "execution_count": 13,
   "metadata": {},
   "outputs": [],
   "source": [
    "from functools import reduce\n",
    "\n",
    "def fact(n):\n",
    "    \"\"\"\n",
    "    Returns the factorial of the given positive number.\n",
    "    If the given number is negative returns 0\n",
    "    Inputs:\n",
    "        @n: The number to calculate\n",
    "    Outputs:\n",
    "        The Factorial\n",
    "    \"\"\"\n",
    "    if n > 0:\n",
    "        fact_lamba = lambda x, y: x * y\n",
    "        return reduce(fact_lamba, range(1,n+1))\n",
    "    return 0"
   ]
  },
  {
   "cell_type": "code",
   "execution_count": null,
   "metadata": {
    "collapsed": true
   },
   "outputs": [],
   "source": []
  }
 ],
 "metadata": {
  "kernelspec": {
   "display_name": "Python 3",
   "language": "python",
   "name": "python3"
  },
  "language_info": {
   "codemirror_mode": {
    "name": "ipython",
    "version": 3
   },
   "file_extension": ".py",
   "mimetype": "text/x-python",
   "name": "python",
   "nbconvert_exporter": "python",
   "pygments_lexer": "ipython3",
   "version": "3.6.2"
  }
 },
 "nbformat": 4,
 "nbformat_minor": 2
}
